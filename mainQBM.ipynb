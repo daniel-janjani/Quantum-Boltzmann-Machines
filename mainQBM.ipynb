{
 "cells": [
  {
   "cell_type": "markdown",
   "metadata": {},
   "source": [
    "# QUANTUM BOLTZMANN MACHINE"
   ]
  },
  {
   "cell_type": "markdown",
   "metadata": {},
   "source": [
    "Quantum Boltzmann Machine (QBM) is a machine learning approach based on quantum Boltzmann distribution and exploiting the rapid growth of the Hilbert space dimension to speed up the classical machine learning algorithm: the Boltzman Machine (BM), when implemented on a quantum hardware. \n",
    "\n",
    "In this small research project we try to replicate the results of the paper 'Quantum Boltzmann Machine' by Mohammad H. Amin et al. : https://arxiv.org/abs/1601.02036. In particular, we focus on its first example (Section 4) of a fully visible model with N variables (spin or qubit), this allows to confront the training of classical Boltzmann Machine, quantum Boltzmann Machine and another variant called bound-QBM. \n",
    "\n",
    "In the models, a state is associated to an energy function or Hamiltonian. The goal is to learn the energy parameters b, w, gamma, so that the learned distribution of the data (Boltzmann distribution) is as similar as possible to the actual data distribution. The learning is achieved by finding the parameters that minimize a negative average log-likelihood function. The minimization is done by adjusting the parameters at each step in the opposite direction of the gradient of the likelihood (gradient descent technique). The step size is controlled by a fixed learning rate eta.\n",
    "\n",
    "All three algorithms are presented below, along with commentary and a final plot to compare the results obtained."
   ]
  },
  {
   "cell_type": "markdown",
   "metadata": {},
   "source": [
    "## Classical Boltzmann Machine"
   ]
  },
  {
   "cell_type": "markdown",
   "metadata": {},
   "source": [
    "In the fully visible BM model, given N spin variables (binary units) that define a state, there are N + N(N-1)/2 trainable parameters: b(a) and w(a,b); gamma = 0 : there are no transverse components of spin. "
   ]
  },
  {
   "cell_type": "code",
   "execution_count": 87,
   "metadata": {},
   "outputs": [],
   "source": [
    "import numpy as np\n",
    "import pandas as pd\n",
    "import matplotlib.pyplot as plt\n",
    "import itertools\n",
    "\n",
    "def energy(z, b, W):\n",
    "    \"\"\" \n",
    "    E(z) = - sum_a (b_a z_a) - sum_{a,b} (w_{a,b} z_a z_b)\n",
    "    for a single configuration z in {+1, -1}^N. \n",
    "    \"\"\"\n",
    "    # We'll compute this directly:\n",
    "    #   E(z) = - (b·z + z^T W z)\n",
    "    bz = np.dot(b, z)\n",
    "    zWz = np.dot(z, np.matmul(W, z))\n",
    "    return -(bz + zWz)\n",
    "\n",
    "def boltzmann_distribution(b, W, all_states):\n",
    "    \"\"\"\n",
    "    Enumerate all states z in {+1, -1}^N, compute\n",
    "        P_model(z) = exp[-E(z)] / Z\n",
    "    and return a (2^N,) probability vector.\n",
    "    \"\"\"\n",
    "    energies = []\n",
    "    for z in all_states:\n",
    "        E_z = energy(z, b, W)\n",
    "        energies.append(E_z)\n",
    "    energies = np.stack(energies)  # shape (2^N)\n",
    "\n",
    "    # exponentiate -E(z) already appears in 'energies' as negative\n",
    "    # but we have E_z = -(...) so actually we want exp(-E_z) = exp(+ ...).\n",
    "    # Let's just do exp(-E_z):\n",
    "    negE = -energies\n",
    "    exp_shifted = np.exp(negE)\n",
    "    Z = exp_shifted.sum()\n",
    "    return exp_shifted / Z\n",
    "\n",
    "# Kullback-Leibler (KL) divergence: KL = Likelihood - Likelihood_min\n",
    "def kl_divergence(P_data, P_model):\n",
    "    return np.sum(P_data * np.log((P_data + 1e-12)/(P_model + 1e-12)))\n",
    "\n",
    "# Define Parameters\n",
    "N = 7  # Number of visible spins z in {+1, -1}\n",
    "M = 8  # Number of modes for data distribution\n",
    "p = 0.9 # Spin alignment probability with mode centers\n",
    "eta = 0.3  # Learning rate\n",
    "num_steps = 35 # Number of optimization steps"
   ]
  },
  {
   "cell_type": "markdown",
   "metadata": {},
   "source": [
    "The learning rate parameter is chosen empirically as the one that enables the algorithm to obtain the lowest value of KL divergence, which quantifies the quality of training. The same approach has been applied to the QBM and bound-QBM models. "
   ]
  },
  {
   "cell_type": "code",
   "execution_count": 78,
   "metadata": {},
   "outputs": [
    {
     "name": "stdout",
     "output_type": "stream",
     "text": [
      "Check sum of P_data: 1.0\n",
      "Check dimension of P_data: (128,)\n"
     ]
    }
   ],
   "source": [
    "# Generate M random center points s^k in {+1, -1}^N\n",
    "centers = np.random.randint(low=0, high=2, size=(M, N))  # in {0,1}\n",
    "centers = 2*centers - 1  # map to {+1,-1}\n",
    "\n",
    "# Enumerate all states z in {+1, -1}^N\n",
    "all_configs = list(itertools.product([-1, +1], repeat=N))\n",
    "all_z = np.array(all_configs, dtype=np.float32)  # (2^N, N)\n",
    "\n",
    "def mixture_data_distribution(all_states, centers, p):  \n",
    "    \"\"\"Generate training data as a mixture of M modes using \n",
    "        Bernouilli distribution: p^(N-d_kv)*(1-p)^d_kv \"\"\"\n",
    "    num_modes = centers.shape[0]  # The number of modes (M=8) is the centers' number of rows\n",
    "    N_ = centers.shape[1]         # The number of bits (N=10) is the centers' number of columns \n",
    "    N_states = all_states.shape[0] # (2^N)\n",
    "    probs = np.zeros(N_states, dtype=np.float32)\n",
    "    for s in range(N_states):  \n",
    "        mode_sum = 0.0\n",
    "        for k in range(num_modes): \n",
    "            d_ks = 0.5 * np.sum(1 - all_states[s, :] * centers[k, :])  # Hamming distance between state s and center k\n",
    "            mode_sum += p**(N_ - d_ks) * (1 - p)**d_ks  # mixture of Bernoulli distribution\n",
    "        probs[s] = mode_sum / num_modes   # Generating P_data for each state\n",
    "    # normalitation\n",
    "    probs /= probs.sum()\n",
    "    return probs\n",
    "\n",
    "P_data = mixture_data_distribution(all_z, centers, p)\n",
    "print(\"Check sum of P_data:\", P_data.sum().item())  # ~1.0\n",
    "print(\"Check dimension of P_data:\", P_data.shape)  # ~2^10 = 1024"
   ]
  },
  {
   "cell_type": "markdown",
   "metadata": {},
   "source": [
    "In the BM fully visible model the gradient steps are expressed as difference of two terms called 'positive' and 'negative' phases. The positive and negative phases for each parameter are obtained by averaging the respective spin variable over the data distribution and the model distribution, respectively."
   ]
  },
  {
   "cell_type": "code",
   "execution_count": 88,
   "metadata": {},
   "outputs": [
    {
     "name": "stdout",
     "output_type": "stream",
     "text": [
      "Iter 0: KL = 1.0106\n",
      "Iter 5: KL = 0.2395\n",
      "Iter 10: KL = 0.1885\n",
      "Iter 15: KL = 0.1679\n",
      "Iter 20: KL = 0.1571\n",
      "Iter 25: KL = 0.1507\n",
      "Iter 30: KL = 0.1467\n",
      "Dati salvati in BM.csv\n"
     ]
    }
   ],
   "source": [
    "# Compute 'positive phase' averages once: <z_a>_data, <z_a z_b>_data for each a,b = 1,2,...,N\n",
    "z_data_avg = np.zeros(N)\n",
    "zz_data_avg = np.zeros((N, N))\n",
    "N_states = all_z.shape[0]\n",
    "for i in range(N_states):\n",
    "    z_data_avg += P_data[i] * all_z[i, :] \n",
    "    zz_data_avg += P_data[i] * np.outer(all_z[i, :], all_z[i, :])\n",
    "\n",
    "# Manual Gradient Updates Using exact formulas\n",
    "# Initialize parameters (b, W) using 'random.seed'\n",
    "np.random.seed(42)\n",
    "b = 0.01 * np.random.randn(N)\n",
    "W = 0.01 * np.random.randn(N, N)\n",
    "\n",
    "kl_history = []\n",
    "for step in range(num_steps):\n",
    "    # 1) Compute model distribution\n",
    "    P_model = boltzmann_distribution(b, W, all_z)\n",
    "    # 2) 'Negative phase' averages: <z_a>_model, <z_a z_b>_model for each a,b = 1,2,...,N\n",
    "    z_model_avg = np.zeros(N)\n",
    "    zz_model_avg = np.zeros((N, N))\n",
    "    for i in range(N_states):\n",
    "      z_model_avg += P_model[i] * all_z[i, :]\n",
    "      zz_model_avg += P_model[i] * np.outer(all_z[i, :], all_z[i, :])\n",
    "    \n",
    "    # Compute gradient steps as difference between positive and negative phases\n",
    "    db = eta * (z_data_avg - z_model_avg) \n",
    "    dW = eta * (zz_data_avg - zz_model_avg)\n",
    "\n",
    "    b += db\n",
    "    W += dW\n",
    "    \n",
    "    # Compute and save KL value\n",
    "    this_kl = kl_divergence(P_data, P_model)\n",
    "    kl_history.append(this_kl.item())\n",
    "\n",
    "    if step % 5 == 0:\n",
    "        print(f\"Iter {step}: KL = {this_kl.item():.4f}\")\n",
    "\n",
    "# Saving Data frame in CSV\n",
    "df = pd.DataFrame({\"iteration\": list(range(num_steps)), \"kl_history\": kl_history})\n",
    "df.to_csv(\"BM.csv\", index=False)\n",
    "print(\"Dati salvati in BM.csv\")\n",
    "\n",
    "df = pd.read_csv(\"BM.csv\")"
   ]
  },
  {
   "cell_type": "markdown",
   "metadata": {},
   "source": [
    "### Plotting results of BM"
   ]
  },
  {
   "cell_type": "code",
   "execution_count": 89,
   "metadata": {},
   "outputs": [
    {
     "data": {
      "image/png": "[encoded data removed]",
      "text/plain": [
       "<Figure size 600x400 with 1 Axes>"
      ]
     },
     "metadata": {},
     "output_type": "display_data"
    }
   ],
   "source": [
    "plt.figure(figsize=(6,4))\n",
    "plt.plot(df['iteration'], df['kl_history'], marker='o', label='KL Divergence')\n",
    "plt.xlabel(\"Iteration\")\n",
    "plt.ylabel(\"KL Divergence\")\n",
    "plt.title(\"BM Training (Exact)\")\n",
    "plt.grid(True)\n",
    "plt.show()"
   ]
  },
  {
   "cell_type": "markdown",
   "metadata": {},
   "source": [
    "## Quantum Boltzmann Machine"
   ]
  },
  {
   "cell_type": "markdown",
   "metadata": {},
   "source": [
    "In the Quantum Boltzmann Machine, binary spin variables are replaced with (2^N x 2^N) matrices (operators), where N is now the number of quantum bits. The energy function is therefore replaced with a (2^N x 2^N) Hamiltonian matrix. The Hamiltonian is build in such a way that its diagonal elements correspond to classical energy values for each of the 2^N possible classical states. The density matrix is defined as exp(-H), devided by the trace of exp(-H), so that each diagonal element corresponds to the Boltzmann probability of that state. The density matrix is also known as Gibbs state. \n",
    "\n",
    "In this fully visible model, each parameter is associated with a (2^N x 2^N) matrix. Gamma is also a parameter to learn, but it is fixed to be the same for each non-diagonal (2^N x 2^N) matrix rapresenting transverse components of spin."
   ]
  },
  {
   "cell_type": "code",
   "execution_count": 109,
   "metadata": {},
   "outputs": [],
   "source": [
    "import numpy as np\n",
    "from scipy.linalg import expm\n",
    "import pandas as pd\n",
    "import matplotlib.pyplot as plt\n",
    "import itertools\n",
    "\n",
    "# Define Parameters\n",
    "N = 7  # Number of visible qubits\n",
    "M = 8  # Number of modes for data distribution\n",
    "p = 0.9  # Spin alignment probability with mode centers\n",
    "eta = 0.4 # Learning rate (increased)\n",
    "iterations = 35  # Number of optimization steps\n",
    "\n",
    "# Pauli Matrices\n",
    "I = np.array([[1, 0], [0, 1]])\n",
    "sigma_z = np.array([[1, 0], [0, -1]])\n",
    "sigma_x = np.array([[0, 1], [1, 0]])\n",
    "\n",
    "# Generate M random center points s^k in {+1, -1}^N\n",
    "centers = np.random.randint(low=0, high=2, size=(M, N)) # in {0,1}\n",
    "centers = 2*centers - 1  # map to {+1,-1}\n",
    "\n",
    "def mixture_data_distribution(all_states, centers, p):  \n",
    "    \"\"\"Generate training data as a mixture of M modes using \n",
    "        Bernouilli distribution: p^(N-d_kv)*(1-p)^d_kv \"\"\"\n",
    "    num_modes = centers.shape[0]  # The number of modes (M=8) is the centers' number of rows\n",
    "    N_ = centers.shape[1]         # The number of bits (N=10) is the centers' number of columns \n",
    "    N_states = all_states.shape[0] # (2^N)\n",
    "    probs = np.zeros(N_states, dtype=np.float32)\n",
    "    for s in range(N_states):  \n",
    "        mode_sum = 0.0\n",
    "        for k in range(num_modes): \n",
    "            d_ks = 0.5 * np.sum(1 - all_states[s, :] * centers[k, :])  # Hamming distance between state s and center k\n",
    "            mode_sum += p**(N_ - d_ks) * (1 - p)**d_ks  # mixture of Bernoulli distribution\n",
    "        probs[s] = mode_sum / num_modes   # Generating P_data for each state\n",
    "    # normalitation\n",
    "    probs /= probs.sum()\n",
    "    return probs\n"
   ]
  },
  {
   "cell_type": "code",
   "execution_count": 97,
   "metadata": {},
   "outputs": [],
   "source": [
    "\n",
    "def tensor_product(ops):\n",
    "    \"\"\"Compute the tensor product of multiple operators.\"\"\"\n",
    "    result = ops[0]\n",
    "    for op in ops[1:]:\n",
    "        result = np.kron(result, op)\n",
    "    return result\n"
   ]
  },
  {
   "cell_type": "markdown",
   "metadata": {},
   "source": [
    "We report that while trying to make the code more efficient we tried to compute the function 'tensor_product' using NUMBA. Unfortunately this didn't seem to make the computation faster. "
   ]
  },
  {
   "cell_type": "code",
   "execution_count": 13,
   "metadata": {},
   "outputs": [],
   "source": [
    "from numba import njit\n",
    "\n",
    "@njit\n",
    "def tensor_product(ops):\n",
    "    \"\"\"Compute the tensor product of multiple operators.\"\"\"\n",
    "    result = ops[0]\n",
    "    for op in ops[1:]:\n",
    "        result = np.kron(result, op)\n",
    "    return result"
   ]
  },
  {
   "cell_type": "markdown",
   "metadata": {},
   "source": [
    "In order to optimize the efficiency of the code we computed the (2^N x 2^N) matrices, representing spin operators, only once out of the 'for loops'. This did make the runtime faster: about 5 times faster than creating spin matrices in each cycle.  "
   ]
  },
  {
   "cell_type": "code",
   "execution_count": 98,
   "metadata": {},
   "outputs": [],
   "source": [
    "# Compute sigma_z(a), sigma_x(a) and sigma_z(a,b) matrices for each a,b = 1,...,N\n",
    "gamma_sigma = np.zeros((2**N, 2**N))\n",
    "b_sigma = np.zeros(N, dtype=object)\n",
    "W_sigma = np.zeros((N, N),dtype=object)\n",
    "for a in range(N):\n",
    "    gamma_sigma += tensor_product([I] * a + [sigma_x] + [I] * (N - a - 1))\n",
    "    b_sigma[a] = tensor_product([I] * a + [sigma_z] + [I] * (N - a - 1)) \n",
    "    for b in range(a + 1, N): \n",
    "        W_sigma[a,b] = tensor_product([I] * a + [sigma_z] + [I] * (b - a - 1) + [sigma_z] + [I] * (N - b - 1))"
   ]
  },
  {
   "cell_type": "code",
   "execution_count": 99,
   "metadata": {},
   "outputs": [],
   "source": [
    "def build_states(N):\n",
    "    all_states = np.zeros((2**N, N))\n",
    "    for s in range(N):\n",
    "        all_states[:, s] = np.diag(b_sigma[s])  # each state is a diagonal element of the sigma_z(a) matrices \n",
    "    return all_states\n",
    "\n",
    "def build_hamiltonian(N, Gamma, b, W):\n",
    "    \"\"\"Construct the Fully Visible QBM Hamiltonian with a transverse field.\"\"\"\n",
    "    H = np.zeros((2**N, 2**N), dtype=complex) # Size (2^N, 2^N)\n",
    "    H = -Gamma * gamma_sigma  # Transverse field\n",
    "    H -= np.dot(b, b_sigma) \n",
    "    H -= np.sum(W * W_sigma, axis=None) \n",
    "    return H\n",
    "\n",
    "def compute_density_matrix(H):\n",
    "    \"\"\"Compute the density matrix rho = e^(-H)/Z\"\"\"\n",
    "    exp_H = expm(-H)  # exp(-H)\n",
    "    Z = np.trace(exp_H)\n",
    "    return exp_H / Z, Z"
   ]
  },
  {
   "cell_type": "markdown",
   "metadata": {},
   "source": [
    "Again trying to speed up the alogirthm, we computed the exponential of the matrix H approximatevely. Even with a very few order of approsimization (n=2), this did make the code a little faster, but it still didn't allow computation for bigger N. Therefore, we ended up using the numpy function 'expm()' in the final results. \n",
    "\n",
    "Note: We tried to use Numba for this function as well."
   ]
  },
  {
   "cell_type": "code",
   "execution_count": 16,
   "metadata": {},
   "outputs": [],
   "source": [
    "# Approximation of matrix exponentiation\n",
    "def matrix_exponential_approx(A, n_terms=2):\n",
    "    result = np.eye(A.shape[0])\n",
    "    term = np.eye(A.shape[0]) \n",
    "    for i in range(1, n_terms + 1):\n",
    "        term = np.dot(term, A) / i  \n",
    "        result += term  \n",
    "    return result"
   ]
  },
  {
   "cell_type": "code",
   "execution_count": 100,
   "metadata": {},
   "outputs": [],
   "source": [
    "def compute_full_probability_distribution(rho):\n",
    "    \"\"\"Return the diagonal elements of rho as the model probability distribution.\"\"\"\n",
    "    return np.real(np.diag(rho))\n",
    "\n",
    "# Kullback-Leibler (KL) divergence: KL = Likelihood - Likelihood_min\n",
    "def compute_kl_upper_bound(P_data, P_model):\n",
    "    \"\"\"Compute the KL divergence upper bound using P_model: diagonal elements of rho.\"\"\"\n",
    "    return np.sum(P_data * np.log((P_data + 1e-12)/(P_model + 1e-12)))"
   ]
  },
  {
   "cell_type": "markdown",
   "metadata": {},
   "source": [
    "In the QBM fuly visible model, the gradient steps for each parameter are obtained by summing the expetation value of the derivative of the matrix exp(-H), respect to the parameter, projected on a visible state and averaged over the data distribution of all states, and the expectation value of the respective operator matrix (Boltzmann averaging). "
   ]
  },
  {
   "cell_type": "code",
   "execution_count": 101,
   "metadata": {},
   "outputs": [],
   "source": [
    "# Building derivative to compute \"positive phase\"\n",
    "def compute_partial_expH(H, rho, Z, projector, partial_H, n):\n",
    "   avg_v = 0.0\n",
    "   delta_t = 1.0 / n\n",
    "   trace = np.trace(projector @ (rho * Z))\n",
    "   exp_tH = expm(-delta_t * H) # we compute only once exp_th in order to optimize efficiency\n",
    "   exp1 = np.eye(H.shape[0])\n",
    "   for m in range(1, n + 1):\n",
    "      t = m * delta_t\n",
    "      exp1 = exp1 @ exp_tH  # e^(-τH)\n",
    "      exp2 = expm((t - 1) * H) # e^{-(1-τ)H}\n",
    "      avg_v += np.trace(projector @ exp1 @ partial_H @ exp2) / (trace + 1e-12) * delta_t\n",
    "   return -avg_v\n",
    "\n",
    "# Compute \"positive\" and \"negative phase\" averages: <sigma_z_a>, <sigma_z_a sigma_z_b> for each a,b = 1,2,...,N\n",
    "\n",
    "state_proj = np.zeros((2**N, 2**N))\n",
    "\n",
    "def compute_gradient_update(P_data, H, rho, Z, all_states, N, eta):\n",
    "    \"\"\"Compute the gradient updates for the QBM parameters.\"\"\"\n",
    "    n = 2   # To allow computation we kept at minimum the iteration steps of the 'compute_partial_expH' function\n",
    "    global state_proj\n",
    "\n",
    "    z_model_avg = np.zeros(N)\n",
    "    zz_model_avg = np.zeros((N, N))\n",
    "    z_data_avg = np.zeros(N)\n",
    "    zz_data_avg = np.zeros((N, N)) \n",
    "\n",
    "    N_states = all_states.shape[0]\n",
    "    partial_expH_Gamma = np.zeros(N_states)\n",
    "    for z in range(N_states):\n",
    "        state_proj[z, z] = 1\n",
    "        partial_expH_Gamma[z] = compute_partial_expH(H, rho, Z, state_proj, gamma_sigma, n)\n",
    "        state_proj[z, z] = 0\n",
    "\n",
    "    for a in range(N):\n",
    "      z_model_avg[a] = np.trace(rho @ b_sigma[a]).real\n",
    "      Gamma_data_avg = 0.\n",
    "      for z in range(N_states):\n",
    "            state_proj[z, z] = 1\n",
    "            z_data_avg[a] += P_data[z] * compute_partial_expH(H, rho, Z, state_proj, b_sigma[a], n)\n",
    "            Gamma_data_avg += P_data[z] * partial_expH_Gamma[z]\n",
    "            state_proj[z, z] = 0\n",
    "      for b in range(a + 1, N):\n",
    "         zz_model_avg[a, b] = np.trace(rho @  W_sigma[a,b]).real\n",
    "         #zz_model_avg[b, a] = zz_model_avg[a, b]  # Ensure symmetry\n",
    "         for z in range(N_states):\n",
    "            state_proj[z, z] = 1\n",
    "            zz_data_avg[a, b] += P_data[z] * compute_partial_expH(H, rho, Z, state_proj,  W_sigma[a, b], n)\n",
    "            #zz_data_avg[b, a] = zz_data_avg[a, b]  \n",
    "            state_proj[z, z] = 0\n",
    "             \n",
    "    Gamma_model_avg = np.trace(rho @ gamma_sigma).real\n",
    "\n",
    "    # Compute gradient steps\n",
    "    delta_b = -eta * (z_data_avg + z_model_avg)\n",
    "    delta_W = -eta * (zz_data_avg + zz_model_avg)\n",
    "    delta_Gamma = -eta * (Gamma_data_avg + Gamma_model_avg)\n",
    "\n",
    "    return delta_b, delta_W, delta_Gamma"
   ]
  },
  {
   "cell_type": "markdown",
   "metadata": {},
   "source": [
    "Our last attempt to speed-up the computation, to be able to compute the machine learning algorithm for larger number of qubits N, was to substitute the function 'compute_partial_expH' with a Fortran function that computed the same derivative. Analizying the code we noticed that this one was, in fact, the computationally most demanding function and removing it would allow the algorithm to run for N=10. Indeed, this function was the main and only difference from the b-QBM algorithm which did run for bigger N (N=10).\n",
    "We implemented a Fortran test function that only computed a trace of a matrix (H) to verify the speed-up. The test was run with N=10."
   ]
  },
  {
   "cell_type": "markdown",
   "metadata": {},
   "source": [
    "#### Fortran test function"
   ]
  },
  {
   "cell_type": "markdown",
   "metadata": {},
   "source": [
    "subroutine test(A, N, trace)\n",
    "\n",
    "    integer, intent(in) :: N\n",
    "\n",
    "    real, dimension(1024, 1024), intent(in) :: A\n",
    "\n",
    "    real, intent(out) :: trace\n",
    "    \n",
    "    integer :: i\n",
    "\n",
    "    trace=0.\n",
    "    do i = 1, 2**N\n",
    "      trace = trace + A(i,i)\n",
    "    end do\n",
    "end subroutine test\n",
    "\n",
    "Note: 'python3 -m numpy.f2py -c -m  test  test.f90' to compile the Fortran f2py module to be able to import it in Python"
   ]
  },
  {
   "cell_type": "code",
   "execution_count": null,
   "metadata": {},
   "outputs": [],
   "source": [
    "import sys\n",
    "sys.path.append('/filepath')\n",
    "import test\n",
    "\n",
    "# N=10\n",
    "state_proj = np.zeros((2**N, 2**N))\n",
    "\n",
    "def compute_gradient_update(P_data, H, rho, Z, all_states, N, eta):\n",
    "    \"\"\"Compute the gradient updates for the QBM parameters.\"\"\"\n",
    "    \n",
    "    global state_proj\n",
    "\n",
    "    z_model_avg = np.zeros(N)\n",
    "    zz_model_avg = np.zeros((N, N))\n",
    "    z_data_avg = np.zeros(N)\n",
    "    zz_data_avg = np.zeros((N, N)) \n",
    "\n",
    "    N_states = all_states.shape[0]\n",
    "    partial_expH_Gamma = np.zeros(N_states)\n",
    "    for z in range(N_states):\n",
    "        state_proj[z, z] = 1\n",
    "        partial_expH_Gamma[z] = test.test(H, N)\n",
    "        state_proj[z, z] = 0\n",
    "\n",
    "    for a in range(N):\n",
    "      z_model_avg[a] = np.trace(rho @ b_sigma[a]).real\n",
    "      Gamma_data_avg = 0.\n",
    "      for z in range(N_states):\n",
    "            state_proj[z, z] = 1\n",
    "            z_data_avg[a] += P_data[z] * test.test(H, N)\n",
    "            Gamma_data_avg += P_data[z] * partial_expH_Gamma[z]\n",
    "            state_proj[z, z] = 0\n",
    "      for b in range(a + 1, N):\n",
    "         zz_model_avg[a, b] = np.trace(rho @  W_sigma[a,b]).real\n",
    "         #zz_model_avg[b, a] = zz_model_avg[a, b]  # Ensure symmetry\n",
    "         for z in range(N_states):\n",
    "            state_proj[z, z] = 1\n",
    "            zz_data_avg[a, b] += P_data[z] * test.test(H, N)\n",
    "            #zz_data_avg[b, a] = zz_data_avg[a, b]  \n",
    "            state_proj[z, z] = 0\n",
    "             \n",
    "    Gamma_model_avg = np.trace(rho @ gamma_sigma).real\n",
    "\n",
    "    # Compute gradient steps\n",
    "    delta_b = -eta * (z_data_avg + z_model_avg)\n",
    "    delta_W = -eta * (zz_data_avg + zz_model_avg)\n",
    "    delta_Gamma = -eta * (Gamma_data_avg + Gamma_model_avg)\n",
    "\n",
    "    return delta_b, delta_W, delta_Gamma"
   ]
  },
  {
   "cell_type": "markdown",
   "metadata": {},
   "source": [
    "We then computed the same test function using numpy, as before we tested it with N=10."
   ]
  },
  {
   "cell_type": "code",
   "execution_count": null,
   "metadata": {},
   "outputs": [],
   "source": [
    "def test(H):\n",
    "    trace_test = np.trace(H)\n",
    "    return trace_test\n",
    "\n",
    "# N=10\n",
    "state_proj = np.zeros((2**N, 2**N))\n",
    "\n",
    "def compute_gradient_update(P_data, H, rho, Z, all_states, N, eta):\n",
    "    \"\"\"Compute the gradient updates for the QBM parameters.\"\"\"\n",
    "    global state_proj\n",
    "\n",
    "    z_model_avg = np.zeros(N)\n",
    "    zz_model_avg = np.zeros((N, N))\n",
    "    z_data_avg = np.zeros(N)\n",
    "    zz_data_avg = np.zeros((N, N)) \n",
    "\n",
    "    N_states = all_states.shape[0]\n",
    "    partial_expH_Gamma = np.zeros(N_states)\n",
    "    for z in range(N_states):\n",
    "        state_proj[z, z] = 1\n",
    "        partial_expH_Gamma[z] = test(H)\n",
    "        state_proj[z, z] = 0\n",
    "\n",
    "    for a in range(N):\n",
    "      z_model_avg[a] = np.trace(rho @ b_sigma[a]).real\n",
    "      Gamma_data_avg = 0.\n",
    "      for z in range(N_states):\n",
    "            state_proj[z, z] = 1\n",
    "            z_data_avg[a] += P_data[z] * test(H)\n",
    "            Gamma_data_avg += P_data[z] * partial_expH_Gamma[z]\n",
    "            state_proj[z, z] = 0\n",
    "      for b in range(a + 1, N):\n",
    "         zz_model_avg[a, b] = np.trace(rho @  W_sigma[a,b]).real\n",
    "         #zz_model_avg[b, a] = zz_model_avg[a, b]  # Ensure symmetry\n",
    "         for z in range(N_states):\n",
    "            state_proj[z, z] = 1\n",
    "            zz_data_avg[a, b] += P_data[z] * test(H)\n",
    "            #zz_data_avg[b, a] = zz_data_avg[a, b]  \n",
    "            state_proj[z, z] = 0\n",
    "             \n",
    "    Gamma_model_avg = np.trace(rho @ gamma_sigma).real\n",
    "\n",
    "    # Compute gradient steps\n",
    "    delta_b = -eta * (z_data_avg + z_model_avg)\n",
    "    delta_W = -eta * (zz_data_avg + zz_model_avg)\n",
    "    delta_Gamma = -eta * (Gamma_data_avg + Gamma_model_avg)\n",
    "\n",
    "    return delta_b, delta_W, delta_Gamma"
   ]
  },
  {
   "cell_type": "markdown",
   "metadata": {},
   "source": [
    "We found that the runtime was slower with the Fortran function. This led us to abandon the implementation with Fortran.\n",
    "\n",
    "![Fortran test](Fortran_test_runtime.jpeg)\n",
    "![Python test](Python_test_runtime.jpeg)"
   ]
  },
  {
   "cell_type": "code",
   "execution_count": 110,
   "metadata": {},
   "outputs": [
    {
     "name": "stdout",
     "output_type": "stream",
     "text": [
      "Check sum of P_data: 1.0\n",
      "Check dimension of P_data: (128,)\n",
      "<class 'numpy.ndarray'>\n",
      "Iteration 1/35, KL Divergence: 1.476174, Δb=0.377220, Δw=0.586000\n",
      "Iteration 2/35, KL Divergence: 0.512288, Δb=0.213406, Δw=0.326509\n",
      "Iteration 3/35, KL Divergence: 0.236458, Δb=0.126948, Δw=0.135732\n",
      "Iteration 4/35, KL Divergence: 0.166775, Δb=0.084984, Δw=0.084111\n",
      "Iteration 5/35, KL Divergence: 0.135862, Δb=0.062548, Δw=0.062221\n",
      "Iteration 6/35, KL Divergence: 0.118556, Δb=0.050516, Δw=0.047182\n",
      "Iteration 7/35, KL Divergence: 0.107722, Δb=0.042781, Δw=0.036972\n",
      "Iteration 8/35, KL Divergence: 0.100357, Δb=0.037174, Δw=0.030112\n",
      "Iteration 9/35, KL Divergence: 0.095021, Δb=0.032874, Δw=0.025371\n",
      "Iteration 10/35, KL Divergence: 0.090963, Δb=0.029429, Δw=0.021986\n",
      "Iteration 11/35, KL Divergence: 0.087766, Δb=0.026598, Δw=0.019451\n",
      "Iteration 12/35, KL Divergence: 0.085181, Δb=0.024209, Δw=0.017480\n",
      "Iteration 13/35, KL Divergence: 0.083051, Δb=0.022161, Δw=0.015885\n",
      "Iteration 14/35, KL Divergence: 0.081269, Δb=0.020377, Δw=0.014558\n",
      "Iteration 15/35, KL Divergence: 0.079763, Δb=0.018805, Δw=0.013425\n",
      "Iteration 16/35, KL Divergence: 0.078478, Δb=0.017408, Δw=0.012440\n",
      "Iteration 17/35, KL Divergence: 0.077375, Δb=0.016157, Δw=0.011571\n",
      "Iteration 18/35, KL Divergence: 0.076422, Δb=0.015030, Δw=0.010795\n",
      "Iteration 19/35, KL Divergence: 0.075595, Δb=0.014010, Δw=0.010096\n",
      "Iteration 20/35, KL Divergence: 0.074874, Δb=0.013082, Δw=0.009462\n",
      "Iteration 21/35, KL Divergence: 0.074242, Δb=0.012236, Δw=0.008883\n",
      "Iteration 22/35, KL Divergence: 0.073688, Δb=0.011462, Δw=0.008353\n",
      "Iteration 23/35, KL Divergence: 0.073201, Δb=0.010750, Δw=0.007864\n",
      "Iteration 24/35, KL Divergence: 0.072770, Δb=0.010096, Δw=0.007413\n",
      "Iteration 25/35, KL Divergence: 0.072389, Δb=0.009492, Δw=0.006994\n",
      "Iteration 26/35, KL Divergence: 0.072050, Δb=0.008933, Δw=0.006605\n",
      "Iteration 27/35, KL Divergence: 0.071750, Δb=0.008415, Δw=0.006243\n",
      "Iteration 28/35, KL Divergence: 0.071482, Δb=0.007935, Δw=0.005905\n",
      "Iteration 29/35, KL Divergence: 0.071243, Δb=0.007488, Δw=0.005589\n",
      "Iteration 30/35, KL Divergence: 0.071029, Δb=0.007072, Δw=0.005293\n",
      "Iteration 31/35, KL Divergence: 0.070837, Δb=0.006684, Δw=0.005016\n",
      "Iteration 32/35, KL Divergence: 0.070665, Δb=0.006322, Δw=0.004756\n",
      "Iteration 33/35, KL Divergence: 0.070510, Δb=0.005984, Δw=0.004512\n",
      "Iteration 34/35, KL Divergence: 0.070371, Δb=0.005667, Δw=0.004283\n",
      "Iteration 35/35, KL Divergence: 0.070245, Δb=0.005371, Δw=0.004067\n",
      "Dati salvati in FullyVisible_QBM.csv\n"
     ]
    }
   ],
   "source": [
    "def optimize_qbm(P_data, all_states, N, Gamma, b, W, eta, iterations):\n",
    "    \"\"\"Optimize the Fully Visible Bound-Based QBM.\"\"\"\n",
    "\n",
    "    kl_divergence = []\n",
    "    for it in range(iterations):\n",
    "        H = build_hamiltonian(N, Gamma, b, W)\n",
    "        rho,_ = compute_density_matrix(H)\n",
    "        _,Z = compute_density_matrix(H)\n",
    "\n",
    "        # Compute model distribution\n",
    "        P_model = compute_full_probability_distribution(rho)\n",
    "\n",
    "        # Compute and save KL value\n",
    "        KL_bound = compute_kl_upper_bound(P_data, P_model)\n",
    "        kl_divergence.append(KL_bound)\n",
    "        \n",
    "        delta_b, delta_W, delta_Gamma = compute_gradient_update(P_data, H, rho, Z, all_states, N, eta)\n",
    "        b += delta_b\n",
    "        W += delta_W\n",
    "        Gamma += delta_Gamma\n",
    "\n",
    "        print(f\"Iteration {it+1}/{iterations}, KL Divergence: {KL_bound:.6f}, Δb={np.linalg.norm(delta_b):.6f}, Δw={np.linalg.norm(delta_W):.6f}\")\n",
    "    return kl_divergence\n",
    "\n",
    "# Initialize parameters (b, W, Gamma) using 'random.seed'\n",
    "np.random.seed(42)\n",
    "b = 0.1 * np.random.randn(N)\n",
    "W = 0.1 * np.random.randn(N, N)\n",
    "Gamma = 0.1 * np.random.rand()\n",
    "\n",
    "all_states = build_states(N)\n",
    "P_data = mixture_data_distribution(all_states, centers, p)\n",
    "print(\"Check sum of P_data:\", P_data.sum().item())  # ~1.0\n",
    "print(\"Check dimension of P_data:\", P_data.shape)  # ~2^10 = 1024\n",
    "print(type(P_data))\n",
    "\n",
    "# Optimize the Fully Visible QBM\n",
    "kl_divergence = optimize_qbm(P_data, all_states, N, Gamma, b, W, eta, iterations)\n",
    "\n",
    "# Saving Data frame in CSV\n",
    "df = pd.DataFrame({\"iteration\": range(1, iterations + 1), \"kl_divergence\": kl_divergence})\n",
    "df.to_csv(\"FullyVisible_QBM.csv\", index=False)\n",
    "print(\"Dati salvati in FullyVisible_QBM.csv\")\n",
    "\n",
    "df = pd.read_csv(\"FullyVisible_QBM.csv\")"
   ]
  },
  {
   "cell_type": "markdown",
   "metadata": {},
   "source": [
    "### Plotting results of QBM"
   ]
  },
  {
   "cell_type": "code",
   "execution_count": 112,
   "metadata": {},
   "outputs": [
    {
     "data": {
      "image/png": "[encoded data removed]",
      "text/plain": [
       "<Figure size 600x400 with 1 Axes>"
      ]
     },
     "metadata": {},
     "output_type": "display_data"
    }
   ],
   "source": [
    "# Plot KL divergence upper bound over iterations\n",
    "plt.figure(figsize=(6, 4))\n",
    "plt.plot(df['iteration'], df['kl_divergence'], marker='o', label='KL divergence over Iterations')\n",
    "plt.xlabel(\"Iteration\")\n",
    "plt.ylabel(\"KL divergence\")\n",
    "plt.title(\"KL divergence Over Iterations (FV-QBM)\")\n",
    "plt.grid()\n",
    "plt.show()"
   ]
  },
  {
   "cell_type": "markdown",
   "metadata": {},
   "source": [
    "## bound - Quantum Boltzmann Machine"
   ]
  },
  {
   "cell_type": "markdown",
   "metadata": {},
   "source": [
    "In the QBM model the minimization of log-likelihood, and therefore the traing of the model, can be inefficient for large systems. For this reason, the likelihood can be substituted with an upper-bound, and it is this upper-bound that is minimized. This approach is called bound-based QBM.\n",
    "\n",
    "The model is almost identical to the QBM and the gradient steps are still expressed in terms of two different averages, but in this model the first term is simpler due to the introduction of the upper-bound of the likelihood, and can be obtained by sampling from a Boltzmann distribution. \n",
    "\n",
    "In this fylly visible model, gamma is kept fixed to a non-zero value (gamma = 2), and therefore is not a trainable parameter."
   ]
  },
  {
   "cell_type": "code",
   "execution_count": 117,
   "metadata": {},
   "outputs": [],
   "source": [
    "import numpy as np\n",
    "from scipy.linalg import expm\n",
    "import pandas as pd\n",
    "import matplotlib.pyplot as plt\n",
    "import itertools\n",
    "\n",
    "# Define Parameters\n",
    "N = 7  # Number of visible qubits\n",
    "M = 8  # Number of modes for data distribution\n",
    "p = 0.9  # Spin alignment probability with mode centers\n",
    "eta = 0.7 # Learning rate (increased)\n",
    "iterations = 35  # Number of optimization steps\n",
    "Gamma = 2 # Fixed transverse field strength\n",
    "\n",
    "# Pauli Matrices\n",
    "I = np.array([[1, 0], [0, 1]])\n",
    "sigma_z = np.array([[1, 0], [0, -1]])\n",
    "sigma_x = np.array([[0, 1], [1, 0]])\n",
    "\n",
    "# Generate M random center points s^k in {+1, -1}^N\n",
    "centers = np.random.randint(low=0, high=2, size=(M, N)) # in {0,1}\n",
    "centers = 2*centers - 1  # map to {+1,-1}\n",
    "\n",
    "def mixture_data_distribution(all_states, centers, p):  \n",
    "    \"\"\"Generate training data as a mixture of M modes using \n",
    "        Bernouilli distribution: p^(N-d_kv)*(1-p)^d_kv \"\"\"\n",
    "    num_modes = centers.shape[0]  # The number of modes (M=8) is the centers' number of rows\n",
    "    N_ = centers.shape[1]         # The number of bits (N=10) is the centers' number of columns \n",
    "    N_states = all_states.shape[0] # (2^N)\n",
    "    probs = np.zeros(N_states, dtype=np.float32)\n",
    "    for s in range(N_states):  \n",
    "        mode_sum = 0.0\n",
    "        for k in range(num_modes): \n",
    "            d_ks = 0.5 * np.sum(1 - all_states[s, :] * centers[k, :])  # Hamming distance between state s and center k\n",
    "            mode_sum += p**(N_ - d_ks) * (1 - p)**d_ks  # mixture of Bernoulli distribution\n",
    "        probs[s] = mode_sum / num_modes   # Generating P_data for each state\n",
    "    # normalitation\n",
    "    probs /= probs.sum()\n",
    "    return probs\n",
    "\n",
    "def tensor_product(ops):\n",
    "    \"\"\"Compute the tensor product of multiple operators.\"\"\"\n",
    "    result = ops[0]\n",
    "    for op in ops[1:]:\n",
    "        result = np.kron(result, op)\n",
    "    return result\n",
    "\n",
    "# Compute sigma_z(a), sigma_x(a) and sigma_z(a,b) matrices for each a,b = 1,...,N\n",
    "b_sigma = np.zeros(N, dtype=object)\n",
    "gamma_sigma = np.zeros((2**N, 2**N))\n",
    "W_sigma = np.zeros((N, N),dtype=object)\n",
    "for a in range(N):\n",
    "    gamma_sigma += tensor_product([I] * a + [sigma_x] + [I] * (N - a - 1))\n",
    "    b_sigma[a] = tensor_product([I] * a + [sigma_z] + [I] * (N - a - 1)) \n",
    "    for b in range(a + 1, N): \n",
    "        W_sigma[a, b] = tensor_product([I] * a + [sigma_z] + [I] * (b - a - 1) + [sigma_z] + [I] * (N - b - 1))\n",
    "\n",
    "def build_states(N):\n",
    "    all_states = np.zeros((2**N, N))\n",
    "    for s in range(N):\n",
    "        all_states[:, s] = np.diag(b_sigma[s])  # each state is a diagonal element of the sigma_z(a) matrices \n",
    "    return all_states\n",
    "\n",
    "def build_hamiltonian(N, Gamma, b, W):\n",
    "    \"\"\"Construct the Fully Visible QBM Hamiltonian with a transverse field.\"\"\"\n",
    "    H = np.zeros((2**N, 2**N), dtype=complex) # Size (2^N, 2^N)\n",
    "    H = -Gamma * gamma_sigma  # Transverse field\n",
    "    H -= np.dot(b, b_sigma)  \n",
    "    H -= np.sum(W * W_sigma, axis=None)  \n",
    "    return H\n",
    "\n",
    "def compute_density_matrix(H):\n",
    "    \"\"\"Compute the density matrix rho = exp(-H) / Z.\"\"\"\n",
    "    exp_H = expm(-H)\n",
    "    Z = np.trace(exp_H)\n",
    "    rho = exp_H / Z\n",
    "    return rho, Z\n",
    "\n",
    "def compute_full_probability_distribution(rho):\n",
    "    \"\"\"Compute the full probability distribution P_v from diagonal elements of rho.\"\"\"\n",
    "    return np.real(np.diag(rho))  # Extract diagonal elements as probabilities\n",
    "\n",
    "# Kullback-Leibler (KL) divergence: KL = Likelihood - Likelihood_min\n",
    "def compute_kl_upper_bound(P_data, P_model):\n",
    "    \"\"\"Compute the KL divergence upper bound using P_model: diagonal elements of rho.\"\"\"\n",
    "    return np.sum(P_data * np.log((P_data + 1e-12)/(P_model + 1e-12)))"
   ]
  },
  {
   "cell_type": "markdown",
   "metadata": {},
   "source": [
    "As mentioned above, the main and only difference with the QBM model is the computation of the 'gadient_update' function. In this bound-based model the gradient steps are expressend in terms of differences of positive and negative phases, in analogy to the classical Boltzmann Machine. The positive phase for each parameter ends up being the simple average of the relative classical spin variable over the state distribution, while the negative phase is the expactation value of the (2^N x 2^N) operator on the Gibbs state defined by the density matrix. "
   ]
  },
  {
   "cell_type": "code",
   "execution_count": 118,
   "metadata": {},
   "outputs": [
    {
     "name": "stdout",
     "output_type": "stream",
     "text": [
      "Check sum of P_data: 1.0\n",
      "Check dimension of P_data: (128,)\n",
      "<class 'numpy.ndarray'>\n",
      "Iteration 1/35, KL Upper Bound: 1.017814, Δb=0.524497, Δw=2.141081\n",
      "Iteration 2/35, KL Upper Bound: 0.643224, Δb=0.349230, Δw=2.082532\n",
      "Iteration 3/35, KL Upper Bound: 0.444985, Δb=0.250411, Δw=2.037496\n",
      "Iteration 4/35, KL Upper Bound: 0.355666, Δb=0.198445, Δw=2.018051\n",
      "Iteration 5/35, KL Upper Bound: 0.311326, Δb=0.163854, Δw=2.012195\n",
      "Iteration 6/35, KL Upper Bound: 0.283231, Δb=0.139320, Δw=2.009774\n",
      "Iteration 7/35, KL Upper Bound: 0.262824, Δb=0.122626, Δw=2.008234\n",
      "Iteration 8/35, KL Upper Bound: 0.246938, Δb=0.111003, Δw=2.007078\n",
      "Iteration 9/35, KL Upper Bound: 0.234060, Δb=0.102389, Δw=2.006175\n",
      "Iteration 10/35, KL Upper Bound: 0.223346, Δb=0.095590, Δw=2.005462\n",
      "Iteration 11/35, KL Upper Bound: 0.214263, Δb=0.089960, Δw=2.004897\n",
      "Iteration 12/35, KL Upper Bound: 0.206445, Δb=0.085139, Δw=2.004446\n",
      "Iteration 13/35, KL Upper Bound: 0.199633, Δb=0.080911, Δw=2.004082\n",
      "Iteration 14/35, KL Upper Bound: 0.193636, Δb=0.077142, Δw=2.003786\n",
      "Iteration 15/35, KL Upper Bound: 0.188308, Δb=0.073742, Δw=2.003542\n",
      "Iteration 16/35, KL Upper Bound: 0.183540, Δb=0.070649, Δw=2.003339\n",
      "Iteration 17/35, KL Upper Bound: 0.179244, Δb=0.067815, Δw=2.003167\n",
      "Iteration 18/35, KL Upper Bound: 0.175353, Δb=0.065205, Δw=2.003022\n",
      "Iteration 19/35, KL Upper Bound: 0.171810, Δb=0.062792, Δw=2.002897\n",
      "Iteration 20/35, KL Upper Bound: 0.168572, Δb=0.060552, Δw=2.002790\n",
      "Iteration 21/35, KL Upper Bound: 0.165600, Δb=0.058466, Δw=2.002696\n",
      "Iteration 22/35, KL Upper Bound: 0.162863, Δb=0.056518, Δw=2.002614\n",
      "Iteration 23/35, KL Upper Bound: 0.160334, Δb=0.054695, Δw=2.002542\n",
      "Iteration 24/35, KL Upper Bound: 0.157992, Δb=0.052985, Δw=2.002478\n",
      "Iteration 25/35, KL Upper Bound: 0.155816, Δb=0.051376, Δw=2.002422\n",
      "Iteration 26/35, KL Upper Bound: 0.153789, Δb=0.049861, Δw=2.002371\n",
      "Iteration 27/35, KL Upper Bound: 0.151898, Δb=0.048430, Δw=2.002326\n",
      "Iteration 28/35, KL Upper Bound: 0.150129, Δb=0.047077, Δw=2.002286\n",
      "Iteration 29/35, KL Upper Bound: 0.148471, Δb=0.045795, Δw=2.002249\n",
      "Iteration 30/35, KL Upper Bound: 0.146914, Δb=0.044578, Δw=2.002217\n",
      "Iteration 31/35, KL Upper Bound: 0.145449, Δb=0.043422, Δw=2.002187\n",
      "Iteration 32/35, KL Upper Bound: 0.144069, Δb=0.042321, Δw=2.002160\n",
      "Iteration 33/35, KL Upper Bound: 0.142767, Δb=0.041272, Δw=2.002135\n",
      "Iteration 34/35, KL Upper Bound: 0.141536, Δb=0.040271, Δw=2.002113\n",
      "Iteration 35/35, KL Upper Bound: 0.140370, Δb=0.039314, Δw=2.002092\n",
      "Dati salvati in FullyVisible_bQBM.csv\n"
     ]
    }
   ],
   "source": [
    "# Compute \"positive\" and \"negative phase\" averages: <sigma_z_a>, <sigma_z_a sigma_z_b> for each a,b = 1,2,...,N\n",
    "def compute_gradient_update(P_data, rho, all_states, N, eta):\n",
    "    \"\"\"Compute gradient updates for b and w.\"\"\"\n",
    "\n",
    "    z_model_avg = np.zeros(N)\n",
    "    zz_model_avg = np.zeros((N, N))\n",
    "    z_data_avg = np.zeros(N)\n",
    "    zz_data_avg = np.zeros((N, N))\n",
    "\n",
    "    # Negative phase\n",
    "    N_states = all_states.shape[0]\n",
    "    for a in range(N):\n",
    "      z_model_avg[a] = np.trace(rho @ b_sigma[a]).real\n",
    "      for b in range(a + 1, N):\n",
    "         zz_model_avg[a, b] = np.trace(rho @ W_sigma[a, b]).real\n",
    "         #zz_model_avg[b, a] = zz_model_avg[a, b]\n",
    "    \n",
    "    # Positive phase\n",
    "    N_states = all_states.shape[0]\n",
    "    for i in range(N_states):\n",
    "        z_data_avg += P_data[i] * all_states[i, :]\n",
    "        zz_data_avg += P_data[i] * np.outer(all_states[i, :], all_states[i, :])\n",
    "\n",
    "    # Compute gradient steps as difference between positive and negative phases\n",
    "    delta_b = eta * (z_data_avg - z_model_avg)\n",
    "    delta_W = eta * (zz_data_avg - zz_model_avg)\n",
    "    return delta_b, delta_W\n",
    "\n",
    "def optimize_qbm(P_data, all_states, N, Gamma, b, W, eta, iterations):\n",
    "    \"\"\"Optimize the Fully Visible Bound-Based QBM.\"\"\"\n",
    "\n",
    "    kl_upper_bounds = []\n",
    "    for it in range(iterations):\n",
    "        H = build_hamiltonian(N, Gamma, b, W)\n",
    "        rho, _ = compute_density_matrix(H)\n",
    "\n",
    "        # Compute model distribution\n",
    "        P_model = compute_full_probability_distribution(rho)\n",
    "        \n",
    "        # Compute and save KL value\n",
    "        KL_bound = compute_kl_upper_bound(P_data, P_model)\n",
    "        kl_upper_bounds.append(KL_bound)\n",
    "        \n",
    "        delta_b, delta_W = compute_gradient_update(P_data, rho, all_states, N, eta)\n",
    "        b += delta_b\n",
    "        W += delta_W\n",
    "\n",
    "        print(f\"Iteration {it+1}/{iterations}, KL Upper Bound: {KL_bound:.6f}, Δb={np.linalg.norm(delta_b):.6f}, Δw={np.linalg.norm(delta_W):.6f}\")\n",
    "    return kl_upper_bounds\n",
    "\n",
    "# Initialize parameters (b, W) using 'random.seed'\n",
    "np.random.seed(42)\n",
    "b = 0.01 * np.random.randn(N)\n",
    "W = 0.01 * np.random.randn(N, N)\n",
    "\n",
    "all_states = build_states(N)\n",
    "P_data = mixture_data_distribution(all_states, centers, p)\n",
    "print(\"Check sum of P_data:\", P_data.sum().item())  # ~1.0\n",
    "print(\"Check dimension of P_data:\", P_data.shape)  # ~2^10 = 1024\n",
    "print(type(P_data))\n",
    "\n",
    "# Optimize the Fully Visible Bound-Based QBM\n",
    "kl_upper_bounds = optimize_qbm(P_data, all_states, N, Gamma, b, W, eta, iterations)\n",
    "\n",
    "# Saving Data frame in CSV\n",
    "df = pd.DataFrame({\"iteration\": range(1, iterations + 1), \"kl_upper_bounds\": kl_upper_bounds})\n",
    "df.to_csv(\"FullyVisible_bQBM.csv\", index=False)\n",
    "print(\"Dati salvati in FullyVisible_bQBM.csv\")\n",
    "\n",
    "df = pd.read_csv(\"FullyVisible_bQBM.csv\")"
   ]
  },
  {
   "cell_type": "markdown",
   "metadata": {},
   "source": [
    "### Plotting results of b-QBM"
   ]
  },
  {
   "cell_type": "code",
   "execution_count": 119,
   "metadata": {},
   "outputs": [
    {
     "data": {
      "image/png": "[encoded data removed]",
      "text/plain": [
       "<Figure size 600x400 with 1 Axes>"
      ]
     },
     "metadata": {},
     "output_type": "display_data"
    }
   ],
   "source": [
    "# Plot KL divergence upper bound over iterations\n",
    "plt.figure(figsize=(6, 4))\n",
    "plt.plot(df['iteration'], df['kl_upper_bounds'], marker='o', label='KL Upper Bound over Iterations')\n",
    "plt.xlabel(\"Iteration\")\n",
    "plt.ylabel(\"KL Upper Bound\")\n",
    "plt.title(\"KL Upper Bound Over Iterations (FV-bQBM)\")\n",
    "plt.grid()\n",
    "plt.show()"
   ]
  },
  {
   "cell_type": "markdown",
   "metadata": {},
   "source": [
    "### Plotting results of BM, QBM and b-QBM all together for a comparison"
   ]
  },
  {
   "cell_type": "code",
   "execution_count": 120,
   "metadata": {},
   "outputs": [
    {
     "data": {
      "image/png": "[encoded data removed]",
      "text/plain": [
       "<Figure size 640x480 with 1 Axes>"
      ]
     },
     "metadata": {},
     "output_type": "display_data"
    }
   ],
   "source": [
    "import pandas as pd\n",
    "import matplotlib.pyplot as plt\n",
    "\n",
    "file_path = \"/Users/andreadecristofaro/BM.csv\"\n",
    "df = pd.read_csv(file_path)\n",
    "plt.plot(df['iteration'], df['kl_history'], marker='o', color='green', label='BM_N=7')\n",
    "\n",
    "file_path = \"/Users/andreadecristofaro/FullyVisible_bQBM.csv\"\n",
    "df = pd.read_csv(file_path)\n",
    "plt.plot(df['iteration'], df['kl_upper_bounds'], marker='o', color='red', label='bQBM_N=7')\n",
    "\n",
    "file_path = \"/Users/andreadecristofaro/FullyVisible_QBM.csv\"\n",
    "df = pd.read_csv(file_path)\n",
    "plt.plot(df['iteration'], df['kl_divergence'], marker='o', color='blue', label='QBM_N=7')\n",
    "\n",
    "plt.xlabel(\"Iteration\")\n",
    "plt.ylabel(\"KL\")\n",
    "plt.title(\"KL divergence Over Iterations\")\n",
    "plt.legend()\n",
    "plt.grid()\n",
    "plt.show()\n"
   ]
  }
 ],
 "metadata": {
  "kernelspec": {
   "display_name": "Python 3",
   "language": "python",
   "name": "python3"
  },
  "language_info": {
   "codemirror_mode": {
    "name": "ipython",
    "version": 3
   },
   "file_extension": ".py",
   "mimetype": "text/x-python",
   "name": "python",
   "nbconvert_exporter": "python",
   "pygments_lexer": "ipython3",
   "version": "3.9.6"
  }
 },
 "nbformat": 4,
 "nbformat_minor": 2
}
